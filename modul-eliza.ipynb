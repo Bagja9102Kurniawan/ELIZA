{
 "cells": [
  {
   "cell_type": "markdown",
   "metadata": {},
   "source": [
    "# Modul Eliza\n",
    "##### Created by Artificial Intelligence Laboratory Telkom University"
   ]
  },
  {
   "cell_type": "code",
   "execution_count": null,
   "metadata": {},
   "outputs": [],
   "source": [
    "# import library regex dan random\n",
    "import re\n",
    "import random"
   ]
  },
  {
   "cell_type": "code",
   "execution_count": null,
   "metadata": {},
   "outputs": [],
   "source": [
    "# mencari kata yang menjadi info dari suatu kalimat\n",
    "def cariInfo(kalimat):\n",
    "    nonInfo = ['', 'aku', 'kamu'] # list kemungkinan kata yang bukan info\n",
    "    listKalimat = kalimat.split(' ') # split string kalimat jadi list\n",
    "    for kata in listKalimat:\n",
    "        if kata not in nonInfo:\n",
    "            return kata"
   ]
  },
  {
   "cell_type": "code",
   "execution_count": null,
   "metadata": {},
   "outputs": [],
   "source": [
    "# keluarkan respon dari eliza\n",
    "def respon(kalimat, regex, jawaban, default):\n",
    "    for i in range(len(regex)):\n",
    "        match = regex[i].match(kalimat) # melakukan regex di kalimat\n",
    "        if match: # jika regex sesuai\n",
    "            respon = random.choice(jawaban[i]) # dapatkan respon secara random dari list jawaban\n",
    "            \n",
    "            # cari tahu info lalu gabungkan dengan respon jika respon perlu info\n",
    "            if (respon.find('%') != -1):\n",
    "                respon = respon.split('%')\n",
    "                respon.insert(1, cariInfo(match.group(1)))\n",
    "                return ''.join(respon)\n",
    "            \n",
    "            return respon\n",
    "    return random.choice(default) # jika tidak ada di kamus, keluarkan kata random"
   ]
  },
  {
   "cell_type": "code",
   "execution_count": null,
   "metadata": {},
   "outputs": [],
   "source": [
    "# list jawaban default\n",
    "default = [\n",
    "    'apasih kamu?',\n",
    "    'ngomong apa coba?',\n",
    "    'gajelas kamu'\n",
    "]"
   ]
  },
  {
   "cell_type": "code",
   "execution_count": null,
   "metadata": {},
   "outputs": [],
   "source": [
    "# list kamus\n",
    "kamus = [\n",
    "    [r'kamu kenapa.*', [\n",
    "        'gapapa',\n",
    "        'dasar gapeka']\n",
    "    ],\n",
    "    [r'.*(mau|pengen).*?', [\n",
    "        'terserah']\n",
    "    ],\n",
    "    [r'.*maaf.*', [\n",
    "        'y']\n",
    "    ],\n",
    "    [r'.*lagi.*?', [\n",
    "        'kepo banget sih',\n",
    "        'banyak tanya']\n",
    "    ],\n",
    "    [r'(halo|pagi|siang|malem).*', [\n",
    "        'y, ada apa?']\n",
    "    ],\n",
    "    [r'kamu(.*)aku.*', [\n",
    "        'emang kenapa kalau aku %?',\n",
    "        'gaboleh emang kalau aku %?',\n",
    "        'gaboleh?']\n",
    "    ]\n",
    "]"
   ]
  },
  {
   "cell_type": "code",
   "execution_count": null,
   "metadata": {},
   "outputs": [],
   "source": [
    "regex = [re.compile(isiKamus[0]) for isiKamus in kamus] # list regex dalam kamus\n",
    "jawaban = [isiKamus[1] for isiKamus in kamus] # list jawaban dalam kamus"
   ]
  },
  {
   "cell_type": "code",
   "execution_count": null,
   "metadata": {
    "scrolled": false
   },
   "outputs": [],
   "source": [
    "# main\n",
    "while True:\n",
    "    inp = input('> ')\n",
    "    if inp == 'udah':\n",
    "        print('yaudah')\n",
    "        break\n",
    "    print(respon(inp, regex, jawaban, default))"
   ]
  }
 ],
 "metadata": {
  "kernelspec": {
   "display_name": "Python 3",
   "language": "python",
   "name": "python3"
  },
  "language_info": {
   "codemirror_mode": {
    "name": "ipython",
    "version": 3
   },
   "file_extension": ".py",
   "mimetype": "text/x-python",
   "name": "python",
   "nbconvert_exporter": "python",
   "pygments_lexer": "ipython3",
   "version": "3.7.4"
  }
 },
 "nbformat": 4,
 "nbformat_minor": 2
}
